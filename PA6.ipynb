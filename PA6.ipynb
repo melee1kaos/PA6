{
 "cells": [
  {
   "cell_type": "markdown",
   "id": "cbe39bd7",
   "metadata": {},
   "source": [
    "# Programming Assignment 5\n",
    "# by Jesse Bicknell\n",
    "# version 3.11.5\n",
    "# CS150 Fall2023"
   ]
  },
  {
   "cell_type": "markdown",
   "id": "4d5d7294",
   "metadata": {},
   "source": [
    "## Task 1: Area and Perimeter of a Triangle"
   ]
  },
  {
   "cell_type": "code",
   "execution_count": 21,
   "id": "0c2aeb89",
   "metadata": {},
   "outputs": [
    {
     "name": "stdout",
     "output_type": "stream",
     "text": [
      "Enter the length of side A:5\n",
      "Enter the length of side B:5\n",
      "Enter the length of side C:5\n",
      "The area of the trinagle is approximately 10.825317547305483 square units.\n",
      "The perimeter of the triangle is 15 linear units.\n"
     ]
    }
   ],
   "source": [
    "import math \n",
    "\n",
    "def calcArea(a=1,b=1,c=1):\n",
    "    Area = (1/4) * math.sqrt((a + b + c) * ((-1) * a + b + c) * (a - b + c) * (a + b - c))\n",
    "    return Area\n",
    "\n",
    "def calcPerimeter(a=1,b=1,c=1):\n",
    "    P = a + b + c\n",
    "    return P\n",
    "\n",
    "prompt1 = \"Enter the length of side A:\"\n",
    "prompt2 = \"Enter the length of side B:\"\n",
    "prompt3 = \"Enter the length of side C:\"\n",
    "\n",
    "active = True \n",
    "\n",
    "while active:\n",
    "    a = int(input(prompt1))\n",
    "    b = int(input(prompt2))\n",
    "    c = int(input(prompt3)) \n",
    "    print(\"The area of the trinagle is approximately \" + str(calcArea(a,b,c)) + \" square units.\\n\" + \n",
    "          \"The perimeter of the triangle is \" + str(calcPerimeter(a,b,c)) + \" linear units.\")\n",
    "    break "
   ]
  },
  {
   "cell_type": "code",
   "execution_count": 19,
   "id": "15281afd",
   "metadata": {},
   "outputs": [
    {
     "data": {
      "text/plain": [
       "0.4330127018922193"
      ]
     },
     "execution_count": 19,
     "metadata": {},
     "output_type": "execute_result"
    }
   ],
   "source": [
    " calcArea()"
   ]
  },
  {
   "cell_type": "code",
   "execution_count": 20,
   "id": "bf480065",
   "metadata": {},
   "outputs": [
    {
     "data": {
      "text/plain": [
       "3"
      ]
     },
     "execution_count": 20,
     "metadata": {},
     "output_type": "execute_result"
    }
   ],
   "source": [
    "calcPerimeter()"
   ]
  },
  {
   "cell_type": "markdown",
   "id": "6cf85be0",
   "metadata": {},
   "source": [
    "## Task 2: Guess the Number"
   ]
  },
  {
   "cell_type": "code",
   "execution_count": 57,
   "id": "0f0ca9e1",
   "metadata": {},
   "outputs": [
    {
     "name": "stdout",
     "output_type": "stream",
     "text": [
      "Enter your guess: 500\n",
      "Too high! Guess again\n",
      "Enter your guess: 250\n",
      "Too high! Guess again\n",
      "Enter your guess: 100\n",
      "Too high! Guess again\n",
      "Enter your guess: 50\n",
      "Too high! Guess again\n",
      "Enter your guess: 25\n",
      "Too low! Guess again\n",
      "Enter your guess: 40\n",
      "Too high! Guess again\n",
      "Enter your guess: 37\n",
      "Too high! Guess again\n",
      "Enter your guess: 30\n",
      "Too low! Guess again\n",
      "Enter your guess: 35\n",
      "Too high! Guess again\n",
      "Enter your guess: 33\n",
      "Too low! Guess again\n",
      "Enter your guess: 34\n",
      "Correct!\n"
     ]
    }
   ],
   "source": [
    "def evaluateGuess(number,input_num):\n",
    "    if number > input_num:\n",
    "        print(\"Too low! Guess again\")\n",
    "    if number < input_num:\n",
    "        print(\"Too high! Guess again\")\n",
    "\n",
    "import random\n",
    "number = random.randint(1,1000)\n",
    "prompt = \"Enter your guess: \"\n",
    "time=0\n",
    "\n",
    "while number != input_num:\n",
    "    input_num = int(input(prompt))\n",
    "    evaluateGuess(number,input_num)\n",
    "    if number == input_num:\n",
    "        print(\"Correct!\")\n",
    "        break\n",
    "    time+=1"
   ]
  },
  {
   "cell_type": "markdown",
   "id": "cce685ed",
   "metadata": {},
   "source": [
    "## Task 3: Calculating Mean"
   ]
  },
  {
   "cell_type": "code",
   "execution_count": 88,
   "id": "3fd90302",
   "metadata": {},
   "outputs": [],
   "source": [
    "def meanTemp(*args):\n",
    "    print( \"The mean temperature for the past \" + str(len(args)) + \" days is \" + str(sum(args)/len(args)) + \" degrees F.\")"
   ]
  },
  {
   "cell_type": "code",
   "execution_count": 89,
   "id": "4dee14d5",
   "metadata": {},
   "outputs": [
    {
     "name": "stdout",
     "output_type": "stream",
     "text": [
      "The mean temperature for the past 5 days is 79.6 degrees F.\n"
     ]
    }
   ],
   "source": [
    "meanTemp(75,77,79,85,82)"
   ]
  },
  {
   "cell_type": "code",
   "execution_count": 90,
   "id": "73fba4b8",
   "metadata": {},
   "outputs": [
    {
     "name": "stdout",
     "output_type": "stream",
     "text": [
      "The mean temperature for the past 8 days is 68.75 degrees F.\n"
     ]
    }
   ],
   "source": [
    "meanTemp(65,67,69,68,67,71,72,71)"
   ]
  }
 ],
 "metadata": {
  "kernelspec": {
   "display_name": "Python 3 (ipykernel)",
   "language": "python",
   "name": "python3"
  },
  "language_info": {
   "codemirror_mode": {
    "name": "ipython",
    "version": 3
   },
   "file_extension": ".py",
   "mimetype": "text/x-python",
   "name": "python",
   "nbconvert_exporter": "python",
   "pygments_lexer": "ipython3",
   "version": "3.11.5"
  }
 },
 "nbformat": 4,
 "nbformat_minor": 5
}
